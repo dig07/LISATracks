{
 "cells": [
  {
   "cell_type": "code",
   "execution_count": 1,
   "id": "05cd1d0a-da19-49f0-a705-0921f638bd28",
   "metadata": {},
   "outputs": [
    {
     "data": {
      "text/html": [
       "<pre style=\"white-space:pre;overflow-x:auto;line-height:normal;font-family:Menlo,'DejaVu Sans Mono',consolas,'Courier New',monospace\">Manim Community <span style=\"color: #008000; text-decoration-color: #008000\">v0.18.0.post0</span>\n",
       "\n",
       "</pre>\n"
      ],
      "text/plain": [
       "Manim Community \u001b[32mv0.\u001b[0m\u001b[32m18.0\u001b[0m\u001b[32m.post0\u001b[0m\n",
       "\n"
      ]
     },
     "metadata": {},
     "output_type": "display_data"
    }
   ],
   "source": [
    "import LISATracks\n",
    "import numpy as np \n",
    "from manim import *\n",
    "import warnings \n",
    "warnings.filterwarnings(\"ignore\",category=SyntaxWarning)"
   ]
  },
  {
   "cell_type": "code",
   "execution_count": 2,
   "id": "590d25b1-7707-4076-9b7a-98f26e2ab0f3",
   "metadata": {},
   "outputs": [],
   "source": [
    "GW170817 = ('TaylorF2Ecc',\n",
    "           {'Name':'GW170817 (289 years from merger)',# Name that will appear over \n",
    "            'Color':'blue'}, # Colour of point that is animated\n",
    "           {'m1':1.5, # Mass 1 in solar masses \n",
    "            'm2':1.2, # Mass 2 in solar masses \n",
    "            'e0':0.0, # Initial eccentricity \n",
    "            'D':40.e+6, # Distance\n",
    "            'phi0':0, # Initial phase (pretty much irrelevant for this plot)\n",
    "            'f_low':0.025}) # Initial *GW* frequency at LISA mission start \n",
    "\n",
    "GW150914 = ('TaylorF2Ecc',\n",
    "           {'Name':'$\\sim$ GW150914',\n",
    "            'Color':'green'},\n",
    "           {'m1':36.,\n",
    "            'm2':29.,\n",
    "            'e0':0.01,\n",
    "            'D':100.e+6,\n",
    "            'phi0':0,\n",
    "            'f_low':0.018})\n",
    "\n",
    "GW190521 = ('TaylorF2Ecc',\n",
    "           {'Name':'$\\sim$ GW190521',\n",
    "            'Color':'green'},\n",
    "           {'m1':142.,\n",
    "            'm2':85.,\n",
    "            'e0':0.01,\n",
    "            'D':200.e+6,\n",
    "            'phi0':0,\n",
    "            'f_low':0.005})\n",
    "GW230529 = ('TaylorF2Ecc',\n",
    "           {'Name':'$\\sim$ GW230529',\n",
    "            'Color':'blue'},\n",
    "           {'m1':3.5,\n",
    "            'm2':1.8,\n",
    "            'e0':0.01,\n",
    "            'D':200.e+6,\n",
    "            'phi0':0,\n",
    "            'f_low':0.04})\n",
    "\n",
    "GW230529 = ('TaylorF2Ecc',\n",
    "           {'Name':'GW230529',\n",
    "            'Color':'blue'},\n",
    "           {'m1':3.5,\n",
    "            'm2':1.8,\n",
    "            'e0':0.01,\n",
    "            'D':200.e+6,\n",
    "            'phi0':0,\n",
    "            'f_low':0.04})\n",
    "\n",
    "GW200216 = ('TaylorF2Ecc',\n",
    "           {'Name':'$\\sim$ GW200216',\n",
    "            'Color':'green'},\n",
    "           {'m1':51.,\n",
    "            'm2':30.,\n",
    "            'e0':0.01,\n",
    "            'D':200.e+6,\n",
    "            'phi0':0,\n",
    "            'f_low':0.016})\n",
    "\n",
    "\n",
    "# List of sources to be animated\n",
    "sources = [ GW170817,\n",
    "            GW150914,\n",
    "            GW190521,\n",
    "            GW230529,\n",
    "            GW200216]\n",
    "\n"
   ]
  },
  {
   "cell_type": "code",
   "execution_count": 3,
   "id": "41a9179e-89df-4264-93de-33cb1a44454e",
   "metadata": {},
   "outputs": [],
   "source": [
    "T_obs = 3*365.25*24*60*60 # 3 year long mission simulated "
   ]
  },
  {
   "cell_type": "code",
   "execution_count": 4,
   "id": "a99eb157-dc01-44e6-a098-27a39a2c3a7a",
   "metadata": {},
   "outputs": [
    {
     "name": "stdout",
     "output_type": "stream",
     "text": [
      "Time to merger is:  296.92142305993525  years\n",
      "Upper bound on time in band:  289.5528607925148  years (no eccentricity evolution assumed)\n",
      "Time to merger is:  3.555093774253596  years\n",
      "Upper bound on time in band:  3.5182250815815874  years (no eccentricity evolution assumed)\n",
      "Time to merger is:  14.201128648729064  years\n",
      "Upper bound on time in band:  14.1962633775299  years (no eccentricity evolution assumed)\n",
      "Time to merger is:  30.33206557813499  years\n",
      "Upper bound on time in band:  27.69579435083842  years (no eccentricity evolution assumed)\n",
      "Time to merger is:  3.5741448238733136  years\n",
      "Upper bound on time in band:  3.547053870844851  years (no eccentricity evolution assumed)\n"
     ]
    },
    {
     "name": "stderr",
     "output_type": "stream",
     "text": [
      "                                                                                                                                                                                                           \r"
     ]
    }
   ],
   "source": [
    "with tempconfig({\"quality\": \"high_quality\", # Change this to from \"low_quality\" to \"high_quality\" for different resolution (check manim for more settings)\n",
    "                 \"disable_caching\": True, \n",
    "                 \"verbosity\":\"WARNING\",\n",
    "                 \"output_file\":'Dark_mode.mp4'}): # This is the method for naming the file \n",
    "    \n",
    "    Tracks = LISATracks.Track.Tracks(T_obs, # Observation time in seconds \n",
    "                            [5.e-4,1.e-1], # Frequency limits for plotting\n",
    "                            1000, # Frequency resolution (logspaced) for plotting\n",
    "                            sources, # List of sources to be plotted\n",
    "                            y_max=1.e-17, # Maximum charachteristic strain to be plotted\n",
    "                            y_min=1.e-22, # Minimum charachteristic strain to be plotted \n",
    "                            run_time=25, # Run time in seconds of the animation [Default]\n",
    "                            psd_color='red',# Color of PSD to be plotted [Default]\n",
    "                            light_or_dark_mode='dark', # Light or dark mode animation [Default]\n",
    "                            render_axes= True, # Wether to render the axes or not [Default]\n",
    "                            render_mission_timer = True, # Render the time passed in the mission [Default]\n",
    "                            axis_label_fontsize = 25, # Fontsizes [Default]\n",
    "                            source_label_fontsize = 20,\n",
    "                            general_text_fontsize=27)\n",
    "\n",
    "    \n",
    "    Tracks.render(preview=True)"
   ]
  },
  {
   "cell_type": "markdown",
   "id": "b49d2b41-bda0-4845-b980-3b0699d678c9",
   "metadata": {},
   "source": [
    "# Light mode (Non default version)"
   ]
  },
  {
   "cell_type": "code",
   "execution_count": 5,
   "id": "130478b6-2207-45fb-9cf8-2b75deeadead",
   "metadata": {},
   "outputs": [
    {
     "name": "stdout",
     "output_type": "stream",
     "text": [
      "Time to merger is:  296.92142305993525  years\n",
      "Upper bound on time in band:  289.5528607925148  years (no eccentricity evolution assumed)\n",
      "Time to merger is:  3.555093774253596  years\n",
      "Upper bound on time in band:  3.5182250815815874  years (no eccentricity evolution assumed)\n",
      "Time to merger is:  14.201128648729064  years\n",
      "Upper bound on time in band:  14.1962633775299  years (no eccentricity evolution assumed)\n",
      "Time to merger is:  30.33206557813499  years\n",
      "Upper bound on time in band:  27.69579435083842  years (no eccentricity evolution assumed)\n",
      "Time to merger is:  3.5741448238733136  years\n",
      "Upper bound on time in band:  3.547053870844851  years (no eccentricity evolution assumed)\n"
     ]
    },
    {
     "name": "stderr",
     "output_type": "stream",
     "text": [
      "                                                                                                                                                                                                           \r"
     ]
    }
   ],
   "source": [
    "with tempconfig({\"quality\": \"high_quality\", # Change this to from \"low_quality\" to \"high_quality\" for different resolution (check manim for more settings)\n",
    "                 \"disable_caching\": True, \n",
    "                 \"verbosity\":\"WARNING\",\n",
    "                 \"output_file\":'Light_mode.mp4'}): # This is the method for naming the file \n",
    "\n",
    "    \n",
    "    Tracks = LISATracks.Track.Tracks(T_obs, # Observation time in seconds \n",
    "                            [5.e-4,1.e-1], # Frequency limits for plotting\n",
    "                            1000, # Frequency resolution (logspaced) for plotting\n",
    "                            sources, # List of sources to be plotted\n",
    "                            y_max=1.e-17, # Maximum charachteristic strain to be plotted\n",
    "                            y_min=1.e-22, # Minimum charachteristic strain to be plotted \n",
    "                            run_time=25, # Run time in seconds of the animation [Default]\n",
    "                            psd_color='red',# Color of PSD to be plotted [Default]\n",
    "                            light_or_dark_mode='light', # Light or dark mode animation \n",
    "                            render_axes= True, # Wether to render the axes or not [Default]\n",
    "                            render_mission_timer = True, # Render the time passed in the mission [Default]\n",
    "                            axis_label_fontsize = 25, # Fontsizes [Default]\n",
    "                            source_label_fontsize = 20,\n",
    "                            general_text_fontsize=27)\n",
    "\n",
    "    \n",
    "    Tracks.render(preview=True)"
   ]
  },
  {
   "cell_type": "code",
   "execution_count": null,
   "id": "c1d58736-089f-4ea4-82b4-bbc23d2710ce",
   "metadata": {},
   "outputs": [],
   "source": []
  },
  {
   "cell_type": "code",
   "execution_count": null,
   "id": "695e0aca-d722-43e0-9550-c1f11529294d",
   "metadata": {},
   "outputs": [],
   "source": []
  }
 ],
 "metadata": {
  "kernelspec": {
   "display_name": "Python 3 (ipykernel)",
   "language": "python",
   "name": "python3"
  },
  "language_info": {
   "codemirror_mode": {
    "name": "ipython",
    "version": 3
   },
   "file_extension": ".py",
   "mimetype": "text/x-python",
   "name": "python",
   "nbconvert_exporter": "python",
   "pygments_lexer": "ipython3",
   "version": "3.8.10"
  }
 },
 "nbformat": 4,
 "nbformat_minor": 5
}
